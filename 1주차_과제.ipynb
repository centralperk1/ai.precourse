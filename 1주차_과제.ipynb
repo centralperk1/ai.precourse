{
  "nbformat": 4,
  "nbformat_minor": 0,
  "metadata": {
    "colab": {
      "name": "1주차 과제",
      "provenance": [],
      "collapsed_sections": [],
      "authorship_tag": "ABX9TyMj0WvaxrPlKNRkHokASMwJ",
      "include_colab_link": true
    },
    "kernelspec": {
      "name": "python3",
      "display_name": "Python 3"
    }
  },
  "cells": [
    {
      "cell_type": "markdown",
      "metadata": {
        "id": "view-in-github",
        "colab_type": "text"
      },
      "source": [
        "<a href=\"https://colab.research.google.com/github/centralperk1/ai.precourse/blob/master/1%EC%A3%BC%EC%B0%A8_%EA%B3%BC%EC%A0%9C.ipynb\" target=\"_parent\"><img src=\"https://colab.research.google.com/assets/colab-badge.svg\" alt=\"Open In Colab\"/></a>"
      ]
    },
    {
      "cell_type": "markdown",
      "metadata": {
        "id": "IYUwF8wQPvrC",
        "colab_type": "text"
      },
      "source": [
        "#**인공지능 기술이 적용된 4가지 분야의 제품 및 서비스**\n",
        "------------------------------------------    \n",
        "\n",
        "###**1. 언어분야**\n",
        "####**구글 / 번역(Translate)**\n",
        "* 정의 : 딥러닝과 신경망 기술이 접목된 인공신경망 기계번역(NMT, Neural Machine Translation) 방식을 적용한 다언어 기계 번역 서비스\n",
        "* 원리\n",
        "  1. 입력문장을 각각 단어 표현값으로 변환\n",
        "  2. 단어 표현들을 이어가며 출력문장으로 이어주는 최적의 가중치를 찾음\n",
        "  3. 문장 출력\n",
        "* 특징\n",
        "  + 입력문장과 출력문장만 있으면 스스로 학습하기때문에 번역 시스템이 단순\n",
        "  + 문장 내의 문맥을 파악하여 단어의 순서, 의미에서의 차이 등을 반영 \n",
        "\n",
        "###**2. 음성분야**\n",
        "####**애플 / 시리(Siri)**    \n",
        "* 정의 : 음성인식 인공지능(AI) 가상 비서\n",
        "* 원리 \n",
        "  1. 시리에 명령\n",
        "  2. 장치가 사용자의 음성을 수집\n",
        "  3. 오디오 파일로 변환\n",
        "  4. 애플의 데이터 센터로 전송 후 처리\n",
        "* 특징\n",
        "  + 기초 데이터와 더불어 사용자의 데이터를 지속적으로 학습하여 정확한 판단과 결과를 제공\n",
        "  + 딥러닝의 이중 지도 학습을 통해 데이터를 학습\n",
        "\n",
        "###**3. 이미지분야**\n",
        "####**네이버 / 스마트렌즈(Smart Lens)**\n",
        "* 정의 : 딥러닝 기반의 이미지 분석기술로 정보를 찾을 수 있는 AI 이미지 검색 서비스\n",
        "* 원리\n",
        "  1. 검색 대상을 카메라로 촬영하거나 저장된 이미지 업로드\n",
        "  2. 이미지를 분석 후 비슷하게 생긴 이미지를 찾고 특징을 스스로 학습하여 가장 유사한 키워드를 제공\n",
        "* 특징\n",
        "  + 네이버 자체 개발 비주얼 서치 기술 '스코픽(Scopic)'을 적용\n",
        "  + 국내 최대 포털사이트로서 축적해둔 방대한 양의 데이터를 활용해 필요한 정보 제공\n",
        "  \n",
        "###**4. 자율주행분야**\n",
        "####**현대, 기아차 / 머신러닝 기반 스마트 크루즈 컨트롤(Smart Cruise Control-Machine Learning)**\n",
        "* 정의 : 스마트 크루즈 컨트롤에 머신러닝 알고리즘을 더한 자율주행 기술\n",
        "* 원리\n",
        "  1. 인식 센서를 통해 운전 시 발생하는 정보를 수집하여 ADAS 제어컴퓨터로 수신\n",
        "  2. 운전자의 주행 습관 정보(앞차와의 거리, 가속성, 반응성 등)를 학습하고 머신러닝 알고리즘을 통해 주행 성향을 분석\n",
        "  3. 자율주행 구현\n",
        "* 특징\n",
        "  + 자율주행 Level 2를 넘어 Level 2.5 수준 구현\n",
        "  + 주행 성향 중 안전 운전에서 벗어난 주행은 따르지 않도록 설정\n"
      ]
    }
  ]
}